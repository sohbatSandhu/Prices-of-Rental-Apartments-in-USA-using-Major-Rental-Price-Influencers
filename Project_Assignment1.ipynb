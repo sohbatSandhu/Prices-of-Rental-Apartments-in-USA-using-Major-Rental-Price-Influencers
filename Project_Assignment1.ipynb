{
 "cells": [
  {
   "cell_type": "markdown",
   "id": "32c1ecbb-dc06-47e0-8ed2-9a4a0181242f",
   "metadata": {},
   "source": [
    "# <center>**Group 18 STAT 301 Project**"
   ]
  },
  {
   "cell_type": "markdown",
   "id": "3d1447dd-63d6-4bb9-81c0-e96f9d2a404e",
   "metadata": {},
   "source": [
    "#### Group Member: Sohbat Sandhu"
   ]
  },
  {
   "cell_type": "markdown",
   "id": "7d37f606-bbf3-44c8-b041-19be069f2a47",
   "metadata": {},
   "source": [
    "### Data Information\n",
    "We are using a [Dataset of classified for apartments for rent in United States of America](https://doi.org/10.24432/C5X623). The dataset contains 10,000 instances of classfied apartments with 22 features (listed in the table below). The data has been originally cleaned in such a way that *column price* and *square_feet* variables are never empty but the dataset is saved as it was created.\n",
    "\n",
    "The data has been collected from 12 unique online sources for rental listings and has been collected from September 2019 to December 2019."
   ]
  },
  {
   "cell_type": "markdown",
   "id": "f5b9b01c-1d66-46e6-b536-6d863c3da1a2",
   "metadata": {},
   "source": [
    "| **Variables** | **Data type** | **Description** |\n",
    "| :-: | :-: | :- |\n",
    "| **id** | *double* | Unique identifier of apartment |\n",
    "| **category** | *character* | Category of the apartment classified |\n",
    "| **title** | *character* | Apartment listing title|\n",
    "| **body** | *character* | Apartment listing description |\n",
    "| **amenities** | *character* | Amentites included |\n",
    "| **bathrooms** | *character* | Number of bathrooms |\n",
    "| **bedrooms** | *character* | Number of bedrooms |\n",
    "| **currency** | *character* | Currency used for price listing |\n",
    "| **fee** | *character* | Additional Apartment Fee |\n",
    "| **has_photo** | *character* | Apartment Photo |\n",
    "| **pets_allowed** | *character* | Types of pets allowed |\n",
    "| **price** | *double* | Rental Price of Apartment |\n",
    "| **price_display** | *character* | Price converted into display for reader |\n",
    "| **price_type** | *character* | Price in USD | \n",
    "| **square_feet** | *double* | Size of Apartment in Square Feet |\n",
    "| **address** | *character* | Apartment location |\n",
    "| **cityname** | *character* | Apartment City Location |\n",
    "| **state** | *character* | Apartment State/District Location |\n",
    "| **latitude** | *character* | Apartment Latitude Coordinates |\n",
    "| **longitude** | *character* | Apartment Longitude Coordinates |\n",
    "| **source** | *character* | Origin of classified |\n",
    "| **time** | *double* | Classified creation time (in Epoch Unix Timestamp) |"
   ]
  },
  {
   "cell_type": "markdown",
   "id": "ecae7792-7a89-4969-baa6-c71cc77cff3c",
   "metadata": {},
   "source": [
    "## Question"
   ]
  },
  {
   "cell_type": "markdown",
   "id": "ec130c72-90a8-4a4b-b9ad-d1e866661cd1",
   "metadata": {},
   "source": [
    "### *Predictive Analysis on Prices of Rental Apartments in USA using Physical and Geographical Features*"
   ]
  },
  {
   "cell_type": "markdown",
   "id": "179b5155-470c-4422-86dd-968cf54e1726",
   "metadata": {},
   "source": [
    "Through analysis of the Apartment for rent classified Dataset, I want to develop a predictive model that predictes rental price uses important factors like phyiscal features (number of bathrooms, number of bedrooms, square footage etc) and geographical features (like the state/district the property is located) that influence rental prices in USA. The representive dataset includes information about features owners and potential tenants have at their disposal when judging the rental price of apartments from the various states and regions in USA. \n",
    "\n",
    "[Nishani (2016)](https://www.researchgate.net/publication/303507168_Determinants_of_rental_value_for_residential_properties_A_land_owner's_perspective_for_boarding_homes) revealed that the factors influencing rental values can be categorized into two major aspects. In order of importance, these were: physical attributes, and locational attributes. Therefore, the variables of interest for this model are the number of bedrooms, number of bathrooms, square footage and state. Multicollinearity among the explanatory variables may complicate the interpretation of individual predictor effects (For example, the number of bedrooms and/or number of bathrooms could be the confounding variable(s) as an increase in either may cause the square footage and the rental price to increase). Conducting Expolatory Data Analysis will allow us to thoroughly judge and understand the distributions, correlations, and potential relationships between the variables. This will allow us to interpret the effects of the predictors on the response variable with increased accuracy."
   ]
  },
  {
   "cell_type": "markdown",
   "id": "83961326-ba3c-43cb-894f-ba2165999090",
   "metadata": {},
   "source": [
    "## References \n",
    "- Apartment for rent classified. (2019). UCI Machine Learning Repository. https://doi.org/10.24432/C5X623.\n",
    "- Wickramaarachchi, Nishani. (2016). Determinants of rental value for residential properties: A land owner’s perspective for boarding homes. Built-Environment Sri Lanka. [link](https://www.researchgate.net/publication/303507168_Determinants_of_rental_value_for_residential_properties_A_land_owner's_perspective_for_boarding_homes)."
   ]
  }
 ],
 "metadata": {
  "kernelspec": {
   "display_name": "R",
   "language": "R",
   "name": "ir"
  },
  "language_info": {
   "codemirror_mode": "r",
   "file_extension": ".r",
   "mimetype": "text/x-r-source",
   "name": "R",
   "pygments_lexer": "r",
   "version": "4.2.3"
  }
 },
 "nbformat": 4,
 "nbformat_minor": 5
}
